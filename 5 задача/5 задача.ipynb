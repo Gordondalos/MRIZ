{
 "cells": [
  {
   "cell_type": "markdown",
   "metadata": {},
   "source": [
    "# 1. Проблема"
   ]
  },
  {
   "cell_type": "markdown",
   "metadata": {},
   "source": [
    "![](Задача№5.jpeg)"
   ]
  },
  {
   "cell_type": "markdown",
   "metadata": {},
   "source": [
    "# 2. Содержательная постановка задачи"
   ]
  },
  {
   "cell_type": "markdown",
   "metadata": {},
   "source": [
    "Составить план работы агрегатов для получения максимальной прибыли. Рассчитать максимальную прибыль при использовании 4 единиц ресурсов."
   ]
  },
  {
   "cell_type": "markdown",
   "metadata": {},
   "source": [
    "# 3. Формальная мат. модель"
   ]
  },
  {
   "cell_type": "markdown",
   "metadata": {},
   "source": [
    "$X - ||x_{ij}||$ - матрица нулей и единиц, $x_{ij}= 1$ если выбрано ровно $j$ ресурсов для $i$-го агрегата.  \n",
    "$C - ||c_{ij}||$ - матрица прибыли  \n",
    "**Целевая функция** - максимально возможная прибыль при распределении 4-х ресурсов:\n",
    "$$\\sum\\limits_{i=1}^4\\sum\\limits_{j=1}^4 x_{ij}c_{ij} \\rightarrow \\max$$\n",
    "$$\\forall i: \\sum\\limits_{j=1}^4 x_{ij} \\leq 1$$\n",
    "$$\\sum\\limits_{i=1}^4 \\left(\\sum\\limits_{j=1}^4  x_{ij}\\cdot j \\right) \\leq 4$$\n",
    "$$X \\in  \\{0, 1\\}$$"
   ]
  },
  {
   "cell_type": "markdown",
   "metadata": {},
   "source": [
    "Запишем ограничения на языке линейной алгебры:"
   ]
  },
  {
   "cell_type": "markdown",
   "metadata": {},
   "source": [
    "$\n",
    "\\begin{pmatrix}\n",
    "x_{11} & ... & x_{14}\\\\\n",
    "x_{21} & ... & x_{24}\\\\\n",
    "x_{31} & ... & x_{34}\\\\\n",
    "x_{41} & ... & x_{44}\\\\\n",
    "\\end{pmatrix} \\cdot\n",
    "$\n",
    "$\n",
    "\\begin{pmatrix}\n",
    "1\\\\\n",
    "1\\\\\n",
    "1\\\\\n",
    "1\\\\\n",
    "\\end{pmatrix} =\n",
    "$\n",
    "$\n",
    "\\begin{pmatrix}\n",
    "1\\\\\n",
    "1\\\\\n",
    "1\\\\\n",
    "1\\\\\n",
    "\\end{pmatrix}\n",
    "$"
   ]
  },
  {
   "cell_type": "markdown",
   "metadata": {},
   "source": [
    "$\n",
    "\\begin{pmatrix}\n",
    "1& 1 & 1 & 1\\\\\n",
    "\\end{pmatrix} \\cdot\n",
    "$\n",
    "$\n",
    "\\begin{pmatrix}\n",
    "x_{11} & ... & x_{14}\\\\\n",
    "x_{21} & ... & x_{24}\\\\\n",
    "x_{31} & ... & x_{34}\\\\\n",
    "x_{41} & ... & x_{44}\\\\\n",
    "\\end{pmatrix} \\cdot\n",
    "$\n",
    "$\n",
    "\\begin{pmatrix}\n",
    "1\\\\\n",
    "2\\\\\n",
    "3\\\\\n",
    "4\\\\\n",
    "\\end{pmatrix} \\leq 4\n",
    "$"
   ]
  },
  {
   "cell_type": "markdown",
   "metadata": {},
   "source": [
    "# 4. Алгоритм и ПО"
   ]
  },
  {
   "cell_type": "markdown",
   "metadata": {},
   "source": [
    "В качестве ПО будем использовать Python с подключенными модулями:\n",
    "* numpy - для работы с линейной алгеброй\n",
    "* cvxpy - для работы с линейным программированием"
   ]
  },
  {
   "cell_type": "markdown",
   "metadata": {},
   "source": [
    "# 5. Решение задачи"
   ]
  },
  {
   "cell_type": "markdown",
   "metadata": {},
   "source": [
    "Подключаем необходимые модули:"
   ]
  },
  {
   "cell_type": "code",
   "execution_count": 1,
   "metadata": {},
   "outputs": [],
   "source": [
    "import numpy as np\n",
    "import cvxpy"
   ]
  },
  {
   "cell_type": "markdown",
   "metadata": {},
   "source": [
    "Функция для решения данного задания:"
   ]
  },
  {
   "cell_type": "code",
   "execution_count": 2,
   "metadata": {},
   "outputs": [],
   "source": [
    "def solution(c):\n",
    "    A = np.array([1,1,1,1])\n",
    "    b = np.array([1,1,1,1])\n",
    "    shp = np.shape(c)\n",
    "    w = np.array([1,2,3,4]).reshape(-1,1)\n",
    "    x = cvxpy.Variable(shape=c.shape, boolean = True)\n",
    "    total_value = (cvxpy.multiply(c,x))\n",
    "    constraints = [(x@A <= b), \n",
    "                   (cvxpy.sum(x@w) <= 4), \n",
    "                   (x>=0), \n",
    "                   (x<=1)]\n",
    "    problem = cvxpy.Problem(cvxpy.Maximize(cvxpy.sum(total_value)), constraints = constraints)\n",
    "    print('Максимальная прибыль(в долларах)', problem.solve(), '\\n')\n",
    "    print(c*x.value)"
   ]
  },
  {
   "cell_type": "markdown",
   "metadata": {},
   "source": [
    "# 6. Анализ"
   ]
  },
  {
   "cell_type": "markdown",
   "metadata": {},
   "source": [
    "Проверим наш алгоритм на реальных данных:"
   ]
  },
  {
   "cell_type": "code",
   "execution_count": 3,
   "metadata": {},
   "outputs": [
    {
     "name": "stdout",
     "output_type": "stream",
     "text": [
      "Максимальная прибыль(в долларах) 19.5 \n",
      "\n",
      "[[5.  0.  0.  0. ]\n",
      " [4.  0.  0.  0. ]\n",
      " [6.  0.  0.  0. ]\n",
      " [4.5 0.  0.  0. ]]\n"
     ]
    }
   ],
   "source": [
    "c = np.array([[5,7.5,9,11],[4,5.5,8,10],[6,8,10,12],[4.5,7,9,11]])\n",
    "solution(c)"
   ]
  },
  {
   "cell_type": "markdown",
   "metadata": {},
   "source": [
    "Получили ожидаемый ответ. Из таблицы видно, что лучше всего в каждый агрегат загрузить по одному ресурсу."
   ]
  }
 ],
 "metadata": {
  "kernelspec": {
   "display_name": "Python 3",
   "language": "python",
   "name": "python3"
  },
  "language_info": {
   "codemirror_mode": {
    "name": "ipython",
    "version": 3
   },
   "file_extension": ".py",
   "mimetype": "text/x-python",
   "name": "python",
   "nbconvert_exporter": "python",
   "pygments_lexer": "ipython3",
   "version": "3.8.3"
  }
 },
 "nbformat": 4,
 "nbformat_minor": 4
}

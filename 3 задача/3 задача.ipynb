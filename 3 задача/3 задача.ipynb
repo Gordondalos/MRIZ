{
 "cells": [
  {
   "cell_type": "markdown",
   "metadata": {},
   "source": [
    "# 1. Проблема"
   ]
  },
  {
   "cell_type": "markdown",
   "metadata": {},
   "source": [
    "![](Задача№3.jpeg)"
   ]
  },
  {
   "cell_type": "markdown",
   "metadata": {},
   "source": [
    "# 2. Содержательная постановка задачи"
   ]
  },
  {
   "cell_type": "markdown",
   "metadata": {},
   "source": [
    "Необходимо определить процентный состав шихты для выплавки стали, нормированной по ГОСТ'у и обладающей минимальной стоимостью материалов с учётом ограничений на кол-во материалов."
   ]
  },
  {
   "cell_type": "markdown",
   "metadata": {},
   "source": [
    "# 3. Формальная мат. модель"
   ]
  },
  {
   "cell_type": "markdown",
   "metadata": {},
   "source": [
    "$C = c_1,c_2,c_3$ -  весы (цены) компонентов шихты для выплавки стали.  \n",
    "$x = x_1,x_2,x_3$ - кол-во материалов(тонн) для выплавки стали.  \n",
    "**Целевая функция** - минимальная стоимость материалов:  \n",
    "$$ (C,x) = -\\sum\\limits_{i=1}^3c_ix_i  \\rightarrow \\max $$\n",
    "$$x_1+x_2+x_3 \\leq 200$$\n",
    "$$0.15x_1 + 0.15x_2 + 0.17x_3 \\geq 0.16(x_1+x_2+x_3)$$\n",
    "$$0.15x_1 + 0.15x_2 + 0.17x_3 \\leq 0.18(x_1+x_2+x_3)$$\n",
    "$$0.10x_1 + 0.08x_2 + 0.09x_3 \\leq 0.09(x_1+x_2+x_3)$$\n",
    "$$0.007x_1 + 0.003x_2 + 0.005x_3 \\leq 0.005(x_1+x_2+x_3)$$\n",
    "$$0 \\leq x_1 \\leq 150$$\n",
    "$$0 \\leq x_2 \\leq 100$$\n",
    "$$0 \\leq x_3 \\leq 75$$\n"
   ]
  },
  {
   "cell_type": "markdown",
   "metadata": {},
   "source": [
    "Запишем наши условия с помощью линейной алгебры:"
   ]
  },
  {
   "cell_type": "markdown",
   "metadata": {},
   "source": [
    "$$\n",
    "A = \\begin{pmatrix}\n",
    "  0.15 & 0.15 & 0.17\\\\\n",
    "  0.1 & 0.08 & 0.09\\\\\n",
    "  0.007 & 0.003 & 0.005\\\\\n",
    "\\end{pmatrix}\n",
    "$$\n",
    "$$\\vec{x} = \\begin{pmatrix}\n",
    "x_1\\\\ x_2\\\\ x_3\\\\\n",
    "\\end{pmatrix}\n",
    "$$\n",
    "$$\n",
    "\\vec{B} = \n",
    "\\begin{pmatrix}\n",
    "0.16\\\\ 0.18\\\\ 0.09\\\\ 0.005\n",
    "\\end{pmatrix}\n",
    "$$"
   ]
  },
  {
   "cell_type": "markdown",
   "metadata": {},
   "source": [
    "# 4. Алгоритм и ПО"
   ]
  },
  {
   "cell_type": "markdown",
   "metadata": {},
   "source": [
    "В качестве ПО будем использовать Python с подключенными модулями:\n",
    "* numpy - для работы с линейной алгеброй\n",
    "* cvxpy - для работы с линейным программированием"
   ]
  },
  {
   "cell_type": "markdown",
   "metadata": {},
   "source": [
    "# 5. Решение задачи"
   ]
  },
  {
   "cell_type": "code",
   "execution_count": 1,
   "metadata": {},
   "outputs": [],
   "source": [
    "import numpy as np\n",
    "import cvxpy"
   ]
  },
  {
   "cell_type": "code",
   "execution_count": 2,
   "metadata": {},
   "outputs": [],
   "source": [
    "def solution(A, b, c, stock):\n",
    "    x = cvxpy.Variable(shape=len(c), integer = False)\n",
    "    minimum = min(stock)\n",
    "    constraints = [(A[0] @ x >= b[0]*sum(x)),\n",
    "                   (A[0] @ x <= b[1]*sum(x)),\n",
    "                   (A[1] @ x <= b[2]*sum(x)),\n",
    "                   (A[2] @ x <= b[3]*sum(x)),\n",
    "                   (sum(x) <= 200),\n",
    "                   (sum(x) >= minimum),\n",
    "                   (x >= 0),\n",
    "                   (x[0] <= stock[0]),\n",
    "                   (x[1] <= stock[1]),\n",
    "                   (x[2] <= stock[2])]\n",
    "\n",
    "    total_value =-(c @ x)\n",
    "\n",
    "    problem = cvxpy.Problem(cvxpy.Maximize(total_value), constraints=constraints)\n",
    "    print('Минимальная стоимость', -round(problem.solve(), 3))\n",
    "    print('Кол-во тонн материалов', np.abs(np.round(x.value, 3)))\n",
    "    #print(problem.solve())\n",
    "    #print(x.value)"
   ]
  },
  {
   "cell_type": "markdown",
   "metadata": {},
   "source": [
    "# 6. Анализ"
   ]
  },
  {
   "cell_type": "markdown",
   "metadata": {},
   "source": [
    "Проверим наш алгоритм на реальных данных:"
   ]
  },
  {
   "cell_type": "code",
   "execution_count": 3,
   "metadata": {},
   "outputs": [],
   "source": [
    "c = np.array([300,200,150]) # вектор стоимости\n",
    "A = np.array([[0.15,0.15,0.17],\n",
    "              [0.1,0.08,0.09],\n",
    "              [0.007,0.003,0.005]]) # матрица кол-ва составов материалов\n",
    "b = np.array([0.16, 0.18, 0.09, 0.005]) # вектор ограничений по ГОСТу\n",
    "stock = np.array([150,100,75])"
   ]
  },
  {
   "cell_type": "code",
   "execution_count": 4,
   "metadata": {},
   "outputs": [
    {
     "name": "stdout",
     "output_type": "stream",
     "text": [
      "Минимальная стоимость 11250.0\n",
      "Кол-во тонн материалов [ 0.  0. 75.]\n"
     ]
    }
   ],
   "source": [
    "solution(A, b, c, stock)"
   ]
  },
  {
   "cell_type": "markdown",
   "metadata": {},
   "source": [
    "Как мы видим, выплавка производится только из 3 материала, т.к. только его состав подходит по ограничениям. Необходимо пересмотреть состав материалов, чтобы ограничения по ГОСТу выполнялись."
   ]
  }
 ],
 "metadata": {
  "kernelspec": {
   "display_name": "Python 3",
   "language": "python",
   "name": "python3"
  },
  "language_info": {
   "codemirror_mode": {
    "name": "ipython",
    "version": 3
   },
   "file_extension": ".py",
   "mimetype": "text/x-python",
   "name": "python",
   "nbconvert_exporter": "python",
   "pygments_lexer": "ipython3",
   "version": "3.8.3"
  }
 },
 "nbformat": 4,
 "nbformat_minor": 4
}

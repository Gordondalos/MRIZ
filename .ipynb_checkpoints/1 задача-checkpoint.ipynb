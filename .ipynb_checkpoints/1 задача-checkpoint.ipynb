{
 "cells": [
  {
   "cell_type": "markdown",
   "metadata": {},
   "source": [
    "# 1. Проблема"
   ]
  },
  {
   "cell_type": "markdown",
   "metadata": {},
   "source": [
    "![](Задача№1.jpeg)"
   ]
  },
  {
   "cell_type": "markdown",
   "metadata": {},
   "source": [
    "# 2. Содержательная постановка задачи"
   ]
  },
  {
   "cell_type": "markdown",
   "metadata": {},
   "source": [
    "Необходимо посчитать сопротивление, при котором теоретически выполняется закон Ома."
   ]
  },
  {
   "cell_type": "markdown",
   "metadata": {},
   "source": [
    "# 3. Формальная мат. модель"
   ]
  },
  {
   "cell_type": "markdown",
   "metadata": {},
   "source": [
    "Закон Ома  \n",
    "$U = I*R$ \n",
    "\n",
    "-----------\n",
    "$x = {x_1,x_2, ..., x_n}(=U)$ - напряжение на участке цепи.  \n",
    "$y = {y_1, y_2, ..., y_n}(=I)$ - сила тока в участке цепи.  \n",
    "$w = \\frac{1}{R}(Проводимость)$ - коэффициент пропорциональности\n",
    "\n",
    "-----------\n",
    "Задача:\n",
    "$$\\textrm{MSE} \\rightarrow \\min$$\n",
    "Условия:\n",
    "$$U_n \\gt 0, I_n \\gt 0, w \\gt 0$$\n",
    "\n"
   ]
  },
  {
   "cell_type": "markdown",
   "metadata": {},
   "source": [
    "# 4. Алгоритм и ПО"
   ]
  },
  {
   "cell_type": "markdown",
   "metadata": {},
   "source": [
    "Согласно закону Ома для участка цепи ($I = \\frac{U}{R}$) связь между $U$ и $I$ является линейной, плюс некоторая случайная ошибка $\\varepsilon_i$:  \n",
    "$$y_i = f(w, x_i) + \\varepsilon_i$$\n",
    "В качестве веса будет выступать проводимость $w = \\dfrac{1}{R}$.  \n",
    "Проверку состоятельности модели закона Ома будем проводить рассчитывая коэффициент детерминации $\\mathbf{R}^2$.\n",
    "Если $\\mathbf{R}^2 \\gt 0.8$ - закон Ома выполняется, $\\mathbf{R}^2 \\lt 0.5$ - закон Ома не выполняется.\n",
    "\n",
    "------\n",
    "МНК → алгоритм, в случае нормального распределения ошибки эксперимента обеспечивает максимальную вероятность повторения результатов опыта на модели.  \n",
    "ПО → python с подключенными модулями:\n",
    "* numpy - для работы с линейной алгеброй\n",
    "* sklearn - для построения модели линейной регрессии\n",
    "* seaborn - для построения графиков"
   ]
  },
  {
   "cell_type": "markdown",
   "metadata": {},
   "source": [
    "# 5. Решение задачи"
   ]
  },
  {
   "cell_type": "markdown",
   "metadata": {},
   "source": [
    "Подключаем необходимые модули:"
   ]
  },
  {
   "cell_type": "code",
   "execution_count": 1,
   "metadata": {},
   "outputs": [],
   "source": [
    "import numpy as np\n",
    "from sklearn.linear_model import LinearRegression\n",
    "import seaborn as sns"
   ]
  },
  {
   "cell_type": "markdown",
   "metadata": {},
   "source": [
    "Функция для создания модели линейной регрессии:"
   ]
  },
  {
   "cell_type": "code",
   "execution_count": 2,
   "metadata": {},
   "outputs": [],
   "source": [
    "def lin_reg(x, y):\n",
    "    x = np.array(x)\n",
    "    y = np.array(y).reshape((-1,1))\n",
    "    model = LinearRegression().fit(y, x)\n",
    "    R = model.score(y,x)\n",
    "    w = model.coef_\n",
    "    print('Коэффициент детерминации:', R)\n",
    "    print('Проводимость:', w[0])\n",
    "    print('Сопротивление:', 1/w[0])\n",
    "    return R\n"
   ]
  },
  {
   "cell_type": "markdown",
   "metadata": {},
   "source": [
    "Функция для анализа результата:"
   ]
  },
  {
   "cell_type": "code",
   "execution_count": 3,
   "metadata": {},
   "outputs": [],
   "source": [
    "def analyze_res(R):\n",
    "    if R >= 0.8:\n",
    "        print('Закон Ома выполняется')\n",
    "    elif R >= 0.5:\n",
    "        print('Модель приемлемая. Закон Ома выполняется')\n",
    "    else:\n",
    "        print('Закон Ома не выполняется')"
   ]
  },
  {
   "cell_type": "markdown",
   "metadata": {},
   "source": [
    "# 6. Анализ"
   ]
  },
  {
   "cell_type": "markdown",
   "metadata": {},
   "source": [
    "Загрузим наши данные:"
   ]
  },
  {
   "cell_type": "code",
   "execution_count": 4,
   "metadata": {},
   "outputs": [],
   "source": [
    "U = [0, 5, 15, 25, 35, 45, 55]\n",
    "I = [0, 5, 20, 19, 32, 38, 48]"
   ]
  },
  {
   "cell_type": "markdown",
   "metadata": {},
   "source": [
    "Применим к данным нашу модель,оценим результаты и построим график линейной регрессии:"
   ]
  },
  {
   "cell_type": "code",
   "execution_count": 9,
   "metadata": {
    "scrolled": true
   },
   "outputs": [
    {
     "name": "stdout",
     "output_type": "stream",
     "text": [
      "Коэффициент детерминации: 0.9708641725615625\n",
      "Проводимость: 1.1633233296477652\n",
      "Сопротивление: 0.8596062457569584\n",
      "Закон Ома выполняется\n"
     ]
    },
    {
     "data": {
      "image/png": "[encoded data removed]",
      "text/plain": [
       "<Figure size 432x288 with 1 Axes>"
      ]
     },
     "metadata": {
      "needs_background": "light"
     },
     "output_type": "display_data"
    }
   ],
   "source": [
    "R = lin_reg(U,I)\n",
    "analyze_res(R)\n",
    "sns.regplot(U,I);"
   ]
  }
 ],
 "metadata": {
  "kernelspec": {
   "display_name": "Python 3",
   "language": "python",
   "name": "python3"
  },
  "language_info": {
   "codemirror_mode": {
    "name": "ipython",
    "version": 3
   },
   "file_extension": ".py",
   "mimetype": "text/x-python",
   "name": "python",
   "nbconvert_exporter": "python",
   "pygments_lexer": "ipython3",
   "version": "3.8.3"
  }
 },
 "nbformat": 4,
 "nbformat_minor": 4
}

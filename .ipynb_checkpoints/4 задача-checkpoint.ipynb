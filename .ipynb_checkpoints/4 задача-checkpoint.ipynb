{
 "cells": [
  {
   "cell_type": "markdown",
   "metadata": {},
   "source": [
    "# 1. Проблема"
   ]
  },
  {
   "cell_type": "markdown",
   "metadata": {},
   "source": [
    "![](Задача№4.jpeg)"
   ]
  },
  {
   "cell_type": "markdown",
   "metadata": {},
   "source": [
    "# 2. Содержательная постановка задачи"
   ]
  },
  {
   "cell_type": "markdown",
   "metadata": {},
   "source": [
    "Необходимо  вычислить максимальную прибыль на данном участке и рассмотреть целесообразноть приобретения 2 единиц одного из видов ресурсов. Нужно не привысить запас ресурсов на складе."
   ]
  },
  {
   "cell_type": "markdown",
   "metadata": {},
   "source": [
    "# 3. Формальная мат. модель"
   ]
  },
  {
   "cell_type": "markdown",
   "metadata": {},
   "source": [
    "Пусть   \n",
    "$X=\\begin{pmatrix}\n",
    "x_1 & x_2 & x_3 & x_4\n",
    "\\end{pmatrix}$ - кол-во произведенного продукта по 4-м технологиям"
   ]
  },
  {
   "cell_type": "markdown",
   "metadata": {},
   "source": [
    "$s = s_1, s_2, s_3$ - себестоимость 1ой единицы ресурсов  \n",
    "$s=\\begin{pmatrix}\n",
    "0.18 & 0.22 & 0.19\n",
    "\\end{pmatrix}$  "
   ]
  },
  {
   "cell_type": "markdown",
   "metadata": {},
   "source": [
    "$A$ - матрица расходов ресурса на единицу продукции по каждому виду технологии  \n",
    "$A=\\begin{pmatrix}\n",
    "0&3&9&11\\\\\n",
    "3&5&7&0\\\\\n",
    "4&8&0&13\n",
    "\\end{pmatrix}$  "
   ]
  },
  {
   "cell_type": "markdown",
   "metadata": {},
   "source": [
    "$V = V_1, V_2, V_3, V_4$ - выручка по каждой технологии производства  \n",
    "$V=\\begin{pmatrix}\n",
    "15 & 20 & 17 & 21\n",
    "\\end{pmatrix}$"
   ]
  },
  {
   "cell_type": "markdown",
   "metadata": {},
   "source": [
    "$b = b_1, b_2, b_3$ - кол-во ресурса на складе  \n",
    "$b=\\begin{pmatrix}\n",
    "300 & 400 & 450\n",
    "\\end{pmatrix}$"
   ]
  },
  {
   "cell_type": "markdown",
   "metadata": {},
   "source": [
    "**Целевая функция** - максимально возможная прибыль:\n",
    "$$Прибыль = Выручка - Стоим. исп. ресурсов \\rightarrow \\max$$"
   ]
  },
  {
   "cell_type": "markdown",
   "metadata": {},
   "source": [
    "Вся выручка:\n",
    "\n",
    "$$v=V\\cdot X$$\n",
    "\n",
    "$$v=\\begin{pmatrix}\n",
    "15 & 20 & 17 & 21\n",
    "\\end{pmatrix}\\cdot\\begin{pmatrix}\n",
    "x_1 \\\\ x_2 \\\\ x_3 \\\\ x_4\n",
    "\\end{pmatrix}$$\n",
    "\n",
    "Стоимость ресурсов:\n",
    "\n",
    "$$c=s\\cdot A\\cdot X$$\n",
    "\n",
    "$$c=\\begin{pmatrix}\n",
    "0.18 & 0.22 & 0.19\n",
    "\\end{pmatrix}\\cdot\\begin{pmatrix}\n",
    "0 & 3 & 9 & 11\\\\\n",
    "3 & 5 & 7 & 0\\\\\n",
    "4 & 8 & 0 & 13\n",
    "\\end{pmatrix}\\cdot\\begin{pmatrix}\n",
    "x_1\\\\x_2\\\\x_3\\\\x_4\n",
    "\\end{pmatrix}$$\n",
    "\n",
    "В итоге наша задача сводится к следующей: $$f(x)=v-c\\rightarrow max$$"
   ]
  },
  {
   "cell_type": "markdown",
   "metadata": {},
   "source": [
    "$$A \\cdot X \\leq b$$\n",
    "$$x \\geq 0$$"
   ]
  },
  {
   "cell_type": "markdown",
   "metadata": {},
   "source": [
    "# 4. Алгоритм и ПО"
   ]
  },
  {
   "cell_type": "markdown",
   "metadata": {},
   "source": [
    "В качестве ПО будем использовать Python с подключенными модулями:\n",
    "* numpy - для работы с линейной алгеброй\n",
    "* cvxpy - для работы с линейным программированием"
   ]
  },
  {
   "cell_type": "markdown",
   "metadata": {},
   "source": [
    "# 5. Решение задачи"
   ]
  },
  {
   "cell_type": "markdown",
   "metadata": {},
   "source": [
    "Подключаем необходимые модули:"
   ]
  },
  {
   "cell_type": "code",
   "execution_count": 1,
   "metadata": {},
   "outputs": [],
   "source": [
    "import cvxpy\n",
    "import numpy as np"
   ]
  },
  {
   "cell_type": "code",
   "execution_count": 2,
   "metadata": {},
   "outputs": [],
   "source": [
    "def solution(A, b, v, res_cost):\n",
    "    x = cvxpy.Variable(shape = len(v), integer = True)\n",
    "\n",
    "    constraints = [(A[0] @ x <= b[0]),\n",
    "                           (A[1] @ x <= b[1]),\n",
    "                           (A[2] @ x <= b[2]),\n",
    "                           (x >= 0)]\n",
    "\n",
    "    c = np.sum(A*res_cost.reshape(-1,1), axis=0)\n",
    "    total_value = sum(cvxpy.multiply(v,x)-cvxpy.multiply(c,x))\n",
    "    problem = cvxpy.Problem(cvxpy.Maximize(total_value), constraints=constraints)\n",
    "    print('Максимальная прибыль:', problem.solve())\n",
    "    print('Кол-во ресурсов на складе:', b)\n",
    "    print('Остаток ресурсов на складе:', b-np.sum(A*x.value, axis=1))\n",
    "    print('Кол-во произведенных продуктов:\\n По 1ой технологии: {}\\n По 2ой технологии: {}\\n По 3ей технологии: {}\\n По 4ой технологии: {}\\n'.format(x.value[0],\n",
    "                                                                                                                                                     x.value[1],\n",
    "                                                                                                                                                     x.value[2],\n",
    "                                                                                                                                                     x.value[3]))"
   ]
  },
  {
   "cell_type": "code",
   "execution_count": null,
   "metadata": {},
   "outputs": [],
   "source": [
    "def solution2(A, b, v, n, res_cost):\n",
    "    x = cvxpy.Variable(shape = len(v), integer = True)\n",
    "\n",
    "    constraints = [(A[0] @ x <= b[0]),\n",
    "                           (A[1] @ x <= b[1]),\n",
    "                           (A[2] @ x <= b[2]),\n",
    "                           (x >= 0)]\n",
    "\n",
    "    c = np.sum(A*res_cost.reshape(-1,1), axis=0)\n",
    "    total_value = sum(cvxpy.multiply(v,x)-cvxpy.multiply(c,x))\n",
    "    problem = cvxpy.Problem(cvxpy.Maximize(total_value), constraints=constraints)\n",
    "    print('Максимальная прибыль:', problem.solve())\n",
    "    print('Кол-во ресурсов на складе:', b)\n",
    "    print('Остаток ресурсов на складе:', b-np.sum(A*x.value, axis=1))\n",
    "    print('Кол-во произведенных продуктов:\\n По 1ой технологии: {}\\n По 2ой технологии: {}\\n По 3ей технологии: {}\\n По 4ой технологии: {}\\n'.format(x.value[0],\n",
    "                                                                                                                                                     x.value[1],\n",
    "                                                                                                                                                     x.value[2],\n",
    "                                                                                                                                                     x.value[3]))"
   ]
  },
  {
   "cell_type": "code",
   "execution_count": 3,
   "metadata": {},
   "outputs": [],
   "source": [
    "def add_res_iterations(b, sum_up=2):\n",
    "    for i in range(len(b)):\n",
    "        a=np.zeros(len(b))\n",
    "        a[i] = sum_up\n",
    "        yield (b+a)"
   ]
  },
  {
   "cell_type": "markdown",
   "metadata": {},
   "source": [
    "# 6. Анализ"
   ]
  },
  {
   "cell_type": "markdown",
   "metadata": {},
   "source": [
    "Проверим наш алгоритм на реальных данных:"
   ]
  },
  {
   "cell_type": "code",
   "execution_count": 7,
   "metadata": {},
   "outputs": [],
   "source": [
    "A = np.array([[0,3,9,11],[3,5,7,0],[4,8,0,13]])\n",
    "b = np.array([300,400,450])\n",
    "res_cost = np.array([0.18,0.22,0.19])\n",
    "v = np.array([15,20,17,21])\n",
    "n = 2"
   ]
  },
  {
   "cell_type": "markdown",
   "metadata": {},
   "source": [
    "## 1 задача"
   ]
  },
  {
   "cell_type": "code",
   "execution_count": 8,
   "metadata": {},
   "outputs": [
    {
     "name": "stdout",
     "output_type": "stream",
     "text": [
      "Максимальная прибыль: 1645.52\n",
      "Кол-во ресурсов на складе: [300 400 450]\n",
      "Остаток ресурсов на складе: [219.   1.   2.]\n",
      "Кол-во произведенных продуктов:\n",
      " По 1ой технологии: 112.0\n",
      " По 2ой технологии: 0.0\n",
      " По 3ей технологии: 9.0\n",
      " По 4ой технологии: 0.0\n",
      "\n"
     ]
    }
   ],
   "source": [
    "solution(A,b,v, res_cost)"
   ]
  },
  {
   "cell_type": "markdown",
   "metadata": {},
   "source": [
    "Можем заметить что выгоднее всего использовать только 1ую и 3ю технологию производства. Также стоит отметить, что на скаладе осталось очень много 1го ресурса. Необходимо снизить количество закупки 1 ресурса и отказаться от 2 и 4 технологии. "
   ]
  },
  {
   "cell_type": "markdown",
   "metadata": {},
   "source": [
    "## 2 задача"
   ]
  },
  {
   "cell_type": "code",
   "execution_count": 9,
   "metadata": {},
   "outputs": [
    {
     "name": "stdout",
     "output_type": "stream",
     "text": [
      "Максимальная прибыль: 1645.52\n",
      "Кол-во ресурсов на складе: [302. 400. 450.]\n",
      "Остаток ресурсов на складе: [221.   1.   2.]\n",
      "Кол-во произведенных продуктов:\n",
      " По 1ой технологии: 112.0\n",
      " По 2ой технологии: 0.0\n",
      " По 3ей технологии: 9.0\n",
      " По 4ой технологии: 0.0\n",
      "\n",
      "Максимальная прибыль: 1645.52\n",
      "Кол-во ресурсов на складе: [300. 402. 450.]\n",
      "Остаток ресурсов на складе: [219.   3.   2.]\n",
      "Кол-во произведенных продуктов:\n",
      " По 1ой технологии: 112.0\n",
      " По 2ой технологии: 0.0\n",
      " По 3ей технологии: 9.0\n",
      " По 4ой технологии: 0.0\n",
      "\n",
      "Максимальная прибыль: 1645.52\n",
      "Кол-во ресурсов на складе: [300. 400. 452.]\n",
      "Остаток ресурсов на складе: [219.   1.   4.]\n",
      "Кол-во произведенных продуктов:\n",
      " По 1ой технологии: 112.0\n",
      " По 2ой технологии: 0.0\n",
      " По 3ей технологии: 9.0\n",
      " По 4ой технологии: 0.0\n",
      "\n"
     ]
    }
   ],
   "source": [
    "for iteration in add_res_iterations(b):\n",
    "    solution(A, iteration, v, res_cost)"
   ]
  },
  {
   "cell_type": "markdown",
   "metadata": {},
   "source": [
    "Как мы видим, добавление 2 любых ресурсов никаким образом не влияет на максимальную прибыль."
   ]
  }
 ],
 "metadata": {
  "kernelspec": {
   "display_name": "Python 3",
   "language": "python",
   "name": "python3"
  },
  "language_info": {
   "codemirror_mode": {
    "name": "ipython",
    "version": 3
   },
   "file_extension": ".py",
   "mimetype": "text/x-python",
   "name": "python",
   "nbconvert_exporter": "python",
   "pygments_lexer": "ipython3",
   "version": "3.8.3"
  }
 },
 "nbformat": 4,
 "nbformat_minor": 4
}

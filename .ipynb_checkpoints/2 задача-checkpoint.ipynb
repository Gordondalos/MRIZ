{
 "cells": [
  {
   "cell_type": "markdown",
   "metadata": {},
   "source": [
    "# 1. Проблема"
   ]
  },
  {
   "cell_type": "markdown",
   "metadata": {},
   "source": [
    "![](Задача№2.jpeg)"
   ]
  },
  {
   "cell_type": "markdown",
   "metadata": {},
   "source": [
    "# 2. Содержательная постановка задачи"
   ]
  },
  {
   "cell_type": "markdown",
   "metadata": {},
   "source": [
    "Необходимо определить процентный состав шихты для выплавки стали, нормированной по ГОСТ'у и обладающей минимальной стоимостью материалов."
   ]
  },
  {
   "cell_type": "markdown",
   "metadata": {},
   "source": [
    "# 3. Формальная мат. модель"
   ]
  },
  {
   "cell_type": "markdown",
   "metadata": {},
   "source": [
    "$C = c_1,c_2,c_3$ -  весы (цены) компонентов шихты для выплавки стали.  \n",
    "$x = x_1,x_2,x_3$ - доли компонентов шихты для выплавки стали.\n",
    "$$ (C,x) = -\\sum\\limits_{i=1}^3c_ix_i  \\rightarrow \\max $$\n",
    "$$x_1+x_2+x_3 = 1$$\n",
    "$$0.15x_1 + 0.15x_2 + 0.17x_3 \\geq 0.16(x_1+x_2+x_3)$$\n",
    "$$0.15x_1 + 0.15x_2 + 0.17x_3 \\leq 0.18(x_1+x_2+x_3)$$\n",
    "$$0.10x_1 + 0.08x_2 + 0.09x_3 \\leq 0.09(x_1+x_2+x_3)$$\n",
    "$$0.007x_1 + 0.003x_2 + 0.005x_3 \\leq 0.005(x_1+x_2+x_3)$$\n",
    "$$x \\geq 0$$"
   ]
  },
  {
   "cell_type": "markdown",
   "metadata": {},
   "source": [
    "Запишем наши условия с помощью линейной алгебры:"
   ]
  },
  {
   "cell_type": "markdown",
   "metadata": {},
   "source": [
    "$$\n",
    "A = \\begin{pmatrix}\n",
    "  0.15 & 0.15 & 0.17\\\\\n",
    "  0.1 & 0.08 & 0.09\\\\\n",
    "  0.007 & 0.003 & 0.005\\\\\n",
    "\\end{pmatrix}\n",
    "$$\n",
    "$$\\vec{x} = \\begin{pmatrix}\n",
    "x_1\\\\ x_2\\\\ x_3\\\\\n",
    "\\end{pmatrix}\n",
    "$$\n",
    "$$\n",
    "\\vec{B} = \n",
    "\\begin{pmatrix}\n",
    "0.16\\\\ 0.18\\\\ 0.09\\\\ 0.005\n",
    "\\end{pmatrix}\n",
    "$$"
   ]
  },
  {
   "cell_type": "markdown",
   "metadata": {},
   "source": [
    "# 4. Алгоритм и ПО"
   ]
  },
  {
   "cell_type": "markdown",
   "metadata": {},
   "source": [
    "В качестве ПО будем использовать Python с подключенными модулями:\n",
    "* numpy - для работы с линейной алгеброй\n",
    "* cvxpy - для работы с линейным программированием"
   ]
  },
  {
   "cell_type": "markdown",
   "metadata": {},
   "source": [
    "# 5. Решение задачи"
   ]
  },
  {
   "cell_type": "code",
   "execution_count": 5,
   "metadata": {},
   "outputs": [],
   "source": [
    "import numpy as np\n",
    "import cvxpy"
   ]
  },
  {
   "cell_type": "code",
   "execution_count": 64,
   "metadata": {},
   "outputs": [],
   "source": [
    "def solution(A, b, c):\n",
    "    x = cvxpy.Variable(shape=len(c), integer = False)\n",
    "\n",
    "    constraints = [(A[0] @ x >= b[0]),\n",
    "                       (A[0] @ x <= b[1]*sum(x)),\n",
    "                       (A[1] @ x <= b[2]*sum(x)),\n",
    "                       (A[2] @ x <= b[3]*sum(x)),\n",
    "                       (sum(x) == 1),\n",
    "                       (x >= 0)]\n",
    "\n",
    "    total_value =-(c @ x)\n",
    "\n",
    "    problem = cvxpy.Problem(cvxpy.Maximize(total_value), constraints=constraints)\n",
    "    print('Минимальная стоимость', -round(problem.solve()))\n",
    "    print('Используемые доли материалов', np.abs(np.round(x.value)))"
   ]
  },
  {
   "cell_type": "markdown",
   "metadata": {},
   "source": [
    "# 6. Анализ"
   ]
  },
  {
   "cell_type": "markdown",
   "metadata": {},
   "source": [
    "Проверим наш алгоритм на реальных данных:"
   ]
  },
  {
   "cell_type": "code",
   "execution_count": 65,
   "metadata": {},
   "outputs": [],
   "source": [
    "c = np.array([300,200,150]) # вектор стоимости\n",
    "A = np.array([[0.15,0.15,0.17],[0.1,0.08,0.09],[0.007,0.003,0.005]]) # матрица кол-ва составов материалов\n",
    "b = np.array([0.16, 0.18, 0.09, 0.005]) # вектор ограничений по ГОСТу"
   ]
  },
  {
   "cell_type": "code",
   "execution_count": 66,
   "metadata": {},
   "outputs": [
    {
     "name": "stdout",
     "output_type": "stream",
     "text": [
      "Минимальная стоимость 150.0\n",
      "Используемые доли материалов [0. 0. 1.]\n"
     ]
    }
   ],
   "source": [
    "solution(A, b, c)"
   ]
  },
  {
   "cell_type": "markdown",
   "metadata": {},
   "source": [
    "Как мы видим, выплавка производится только из 3 материала, т.к. только его состав подходит по ограничениям. Необходимо пересмотреть состав материалов, чтобы ограничения по ГОСТу выполнялись."
   ]
  }
 ],
 "metadata": {
  "kernelspec": {
   "display_name": "Python 3",
   "language": "python",
   "name": "python3"
  },
  "language_info": {
   "codemirror_mode": {
    "name": "ipython",
    "version": 3
   },
   "file_extension": ".py",
   "mimetype": "text/x-python",
   "name": "python",
   "nbconvert_exporter": "python",
   "pygments_lexer": "ipython3",
   "version": "3.8.3"
  }
 },
 "nbformat": 4,
 "nbformat_minor": 4
}

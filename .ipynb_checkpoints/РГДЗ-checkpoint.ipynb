{
 "cells": [
  {
   "cell_type": "markdown",
   "metadata": {},
   "source": [
    "# 1. Проблема"
   ]
  },
  {
   "cell_type": "markdown",
   "metadata": {},
   "source": [
    "![](РГДЗ.png)"
   ]
  },
  {
   "cell_type": "markdown",
   "metadata": {},
   "source": [
    "# 2. Содержательная постановка задачи"
   ]
  },
  {
   "cell_type": "markdown",
   "metadata": {},
   "source": [
    "I. Задача:\n",
    "- выполнить план\n",
    "- минимизировать ресурсы\n",
    "- уложиться в ограничения по времени\n",
    "\n",
    "II. Если решения нет:  \n",
    "\n",
    "Рассмотреть минимизицию  \n",
    "   1. ресурсов  \n",
    "   2. времени  \n",
    "   — рассмотреть при замене первого агрегата на второй\n",
    "   3. отходов  \n",
    "   — без ограничения по времени, но с выполнением плана.  "
   ]
  },
  {
   "cell_type": "markdown",
   "metadata": {},
   "source": [
    "Рассмотреть максимизацию  \n",
    "4. полученного продукта  \n",
    "— без ограничений по выполнению плана, но с ограничением по времени.\n",
    "5. прибыли при уступке в количестве ресурсов на 5%"
   ]
  },
  {
   "attachments": {
    "image.png": {
     "image/png": "[encoded data removed]"
    }
   },
   "cell_type": "markdown",
   "metadata": {},
   "source": [
    "![image.png](attachment:image.png)  \n",
    "$$T_{1} =6ч$$  \n",
    "$$T_{2} =3ч$$"
   ]
  },
  {
   "cell_type": "markdown",
   "metadata": {},
   "source": [
    "# 3. Формальная мат. модель"
   ]
  },
  {
   "cell_type": "markdown",
   "metadata": {},
   "source": [
    "Пусть  \n",
    "$X = x_{1}, ..., x_{9}$ — кол-во тонн используемого ресурса по $1, ...,9$ варианту соответственно;  \n",
    "$t = t_{1}, ..., t_{9}$ — время выполнения каждого варианта технологии;  \n",
    "$t_{i} = \\dfrac{x_{i}}{p},$ где $p$ — производительность каждого варианта технологии;  \n",
    "$p=\\begin{pmatrix}\n",
    "7 & 6 & 5 & 8 & 9 & 10 & 10 & 11 & 12\n",
    "\\end{pmatrix}$  \n",
    "$A =||a_{ij}||$ — матрица кол-ва тонн $j$-го продукта, получаемого из одной тонны ресурса по $i$-ой технологии;  "
   ]
  },
  {
   "cell_type": "markdown",
   "metadata": {},
   "source": [
    "$A =\n",
    "\\begin{pmatrix}\n",
    "0 & 0 & 0.135 & 0.214 & 0.633 & 0\\\\\n",
    "0 & 0 & 0.665 & 0.318 & 0 &0\\\\\n",
    "0 & 0.355 & 0 & 0.212 & 0.416 & 0\\\\\n",
    "0.497 & 0 & 0.270 & 0.214 & 0 & 0\\\\\n",
    "0 & 0.12 & 0.540 & 0.321 & 0 & 0\\\\\n",
    "0.24 & 0 & 0 & 0.321 & 0 & 0.42\\\\\n",
    "0.24 & 0 & 0 & 0.321 & 0 & 0.42\\\\\n",
    "0 & 0.24 & 0 & 0.107 & 0.633 & 0\\\\\n",
    "0 & 0 & 0.135 & 0 & 0.844 & 0\\\\\n",
    "\\end{pmatrix}\n",
    "$"
   ]
  },
  {
   "cell_type": "markdown",
   "metadata": {},
   "source": [
    "$b$ — план производства продукции;  \n",
    "$b =\n",
    "\\begin{pmatrix}\n",
    "150& 50 & 100 & 50 & 150 & 100\\\\\n",
    "\\end{pmatrix}\n",
    "$  \n",
    "$\\varepsilon$ — кол-во отходов по каждой технологии;  \n",
    "$\\varepsilon =\n",
    "\\begin{pmatrix}\n",
    "0.018 & 0.017 & 0.017 & 0.019 & 0.019 & 0.019 & 0.019 & 0.02 & 0.021\\\\\n",
    "\\end{pmatrix}\n",
    "$  \n",
    "$c$ — стоимость каждой произведенной продукции;  \n",
    "$с =\n",
    "\\begin{pmatrix}\n",
    "0.9 & 0.7 & 0.6 & 0.6 & 1.0 & 0.9\\\\\n",
    "\\end{pmatrix}\n",
    "$  \n",
    "$s$ — стоимость ресурса"
   ]
  },
  {
   "cell_type": "markdown",
   "metadata": {},
   "source": [
    "**1. Целевая функция** — минимальное кол-во использованных ресурсов:\n",
    "$$\\sum\\limits_{i=1}^9 x_{i} \\rightarrow \\min$$\n",
    "$$X \\cdot A \\geq b$$\n",
    "$$\\sum\\limits_{i=1}^6 t_{i} \\leq T_{1}$$\n",
    "$$\\sum\\limits_{i=7}^9 t_{i} \\leq T_{2}$$\n",
    "$$X \\geq 0$$"
   ]
  },
  {
   "cell_type": "markdown",
   "metadata": {},
   "source": [
    "**2. Целевая функция** — минимальное кол-во отходов:\n",
    "$$\\sum\\limits_{i=1}^9 \\varepsilon_{i} x_{i} \\rightarrow \\min$$\n",
    "$$X \\cdot A \\geq b$$\n",
    "$$X \\geq 0$$"
   ]
  },
  {
   "cell_type": "markdown",
   "metadata": {},
   "source": [
    "**3. Целевая функция** — минимальное время работы агрегатов:\n",
    "$$\\sum\\limits_{i=1}^6 t_{i} + \\sum\\limits_{j=7}^9 t_{j} \\rightarrow \\min$$\n",
    "$$X \\cdot A \\geq b$$\n",
    "$$X \\geq 0$$"
   ]
  },
  {
   "cell_type": "markdown",
   "metadata": {},
   "source": [
    "**4. Целевая функция** — максимальное кол-во произведенных ресурсов при временных ограничениях:\n",
    "$$\\sum\\limits_{i=1}^9 x_{i} \\rightarrow \\max$$\n",
    "$$\\sum\\limits_{i=1}^6 t_{i} \\leq T_{1}$$\n",
    "$$\\sum\\limits_{i=7}^9 t_{i} \\leq T_{2}$$\n",
    "$$X \\geq 0$$"
   ]
  },
  {
   "cell_type": "markdown",
   "metadata": {},
   "source": [
    "**5. Целевая функция** — максимальная прибыль от производства при уступке в количестве ресурсов на $5\\%$:\n",
    "$$\\left(s\\cdot\\sum\\limits_{i=1}^9 x_{i}\\right) - \\sum\\limits_{i=1}^6c_{j} \\rightarrow \\max$$\n",
    "$$X \\cdot A \\geq b$$\n",
    "$$X \\geq 0$$\n",
    "$$\\sum\\limits_{i=1}^9 x_{i} \\leq \\min\\limits_{X \\cdot A \\geq b\\\\X \\geq 0}\\left(\\sum\\limits_{i=1}^9 x_{i}\\right)\\cdot 105\\%$$"
   ]
  },
  {
   "cell_type": "markdown",
   "metadata": {},
   "source": [
    "Запишем ограничения на языке линейной алгебры:"
   ]
  },
  {
   "cell_type": "markdown",
   "metadata": {},
   "source": [
    "$\n",
    "\\begin{pmatrix}\n",
    "x_{1}\\\\\n",
    "x_{2}\\\\\n",
    "x_{3}\\\\\n",
    "x_{4}\\\\\n",
    "x_{5}\\\\\n",
    "x_{6}\\\\\n",
    "x_{7}\\\\\n",
    "x_{8}\\\\\n",
    "x_{9}\\\\\n",
    "\\end{pmatrix} \\cdot \n",
    "$\n",
    "$\n",
    "\\begin{pmatrix}\n",
    "0 & 0 & 0.135 & 0.214 & 0.633 & 0\\\\\n",
    "0 & 0 & 0.665 & 0.318 & 0 &0\\\\\n",
    "0 & 0.355 & 0 & 0.212 & 0.416 & 0\\\\\n",
    "0.497 & 0 & 0.270 & 0.214 & 0 & 0\\\\\n",
    "0 & 0.12 & 0.540 & 0.321 & 0 & 0\\\\\n",
    "0.24 & 0 & 0 & 0.321 & 0 & 0.42\\\\\n",
    "0.24 & 0 & 0 & 0.321 & 0 & 0.42\\\\\n",
    "0 & 0.24 & 0 & 0.107 & 0.633 & 0\\\\\n",
    "0 & 0 & 0.135 & 0 & 0.844 & 0\\\\\n",
    "\\end{pmatrix} \\geq\n",
    "$\n",
    "$\n",
    "\\begin{pmatrix}\n",
    "150\\\\\n",
    "50\\\\\n",
    "100\\\\\n",
    "50\\\\\n",
    "150\\\\\n",
    "100\\\\\n",
    "\\end{pmatrix}\n",
    "$"
   ]
  },
  {
   "cell_type": "markdown",
   "metadata": {},
   "source": [
    "$\n",
    "\\begin{pmatrix}\n",
    "x_{1} & x_{2} & x_{3} & x_{4} & x_{5} & x_{6}\\\\\n",
    "\\end{pmatrix} \\cdot\n",
    "$\n",
    "$\n",
    "\\begin{pmatrix}\n",
    "1/7\\\\\n",
    "1/6\\\\\n",
    "1/5\\\\\n",
    "1/8\\\\\n",
    "1/9\\\\\n",
    "1/10\\\\\n",
    "\\end{pmatrix} \\leq 6\n",
    "$"
   ]
  },
  {
   "cell_type": "markdown",
   "metadata": {},
   "source": [
    "$\n",
    "\\begin{pmatrix}\n",
    "x_{7} & x_{8} & x_{9}\\\\\n",
    "\\end{pmatrix} \\cdot\n",
    "$\n",
    "$\n",
    "\\begin{pmatrix}\n",
    "1/10\\\\\n",
    "1/11\\\\\n",
    "1/12\\\\\n",
    "\\end{pmatrix} \\leq 3\n",
    "$"
   ]
  },
  {
   "cell_type": "markdown",
   "metadata": {},
   "source": [
    "# 4. Алгоритм и ПО"
   ]
  },
  {
   "cell_type": "markdown",
   "metadata": {},
   "source": [
    "В качестве ПО будем использовать Python с подключенными модулями:\n",
    "* numpy - для работы с линейной алгеброй\n",
    "* cvxpy - для работы с линейным программированием"
   ]
  },
  {
   "cell_type": "markdown",
   "metadata": {},
   "source": [
    "# 5. Решение задачи"
   ]
  },
  {
   "cell_type": "code",
   "execution_count": 1,
   "metadata": {},
   "outputs": [],
   "source": [
    "import cvxpy\n",
    "import numpy as np"
   ]
  },
  {
   "cell_type": "markdown",
   "metadata": {},
   "source": [
    "Функция для решения задач минимизации."
   ]
  },
  {
   "cell_type": "code",
   "execution_count": 2,
   "metadata": {},
   "outputs": [],
   "source": [
    "def problem_solver(total_value, constraints):\n",
    "    problem = cvxpy.Problem(cvxpy.Minimize(total_value), constraints = constraints)\n",
    "    return problem"
   ]
  },
  {
   "cell_type": "markdown",
   "metadata": {},
   "source": [
    "Функция для вывода результатов."
   ]
  },
  {
   "cell_type": "code",
   "execution_count": 3,
   "metadata": {},
   "outputs": [],
   "source": [
    "def print_results(res_sum, result,T1,T2, waste, overfulfillment, profit):\n",
    "    print('Кол-во затраченных ресурсов (в тоннах)\\n-------------------------------------\\n {}\\n'.format(res_sum))\n",
    "    print('Время работы (в часах)\\n-------------------------------------\\n 1го агрегата: {}\\n 2го агрегата: {}\\n'.format(T1,T2))\n",
    "    print('Кол-во отходов (в тоннах)\\n-------------------------------------\\n {}\\n'.format(waste))\n",
    "    print('Кол-во ресурсов для каждой технологии (в тоннах)\\n-------------------------------------\\n 1: {}\\n 2: {}\\n 3: {}\\n 4: {}\\n 5: {}\\n 6: {}\\n 7: {}\\n 8: {}\\n 9: {}\\n'.format(result[0][0],\n",
    "                                                                                                       result[0][1],\n",
    "                                                                                                       result[0][2],\n",
    "                                                                                                       result[0][3],\n",
    "                                                                                                       result[0][4],\n",
    "                                                                                                       result[0][5],\n",
    "                                                                                                       result[0][6],\n",
    "                                                                                                       result[0][7],\n",
    "                                                                                                       result[0][8]))\n",
    "    print('Перевыполнение плана (в тоннах)\\n-------------------------------------\\n {}\\n'.format(overfulfillment[0]))\n",
    "    print('Прибыль (в у.е.)\\n-------------------------------------\\n {}\\n'.format(profit))\n",
    "    print('Прибыль в час (в у.е.)\\n-------------------------------------\\n {}\\n'.format(profit/(max((T1,T2)))))\n",
    "    "
   ]
  },
  {
   "cell_type": "markdown",
   "metadata": {},
   "source": [
    "Алгоритм решения задачи минимизации ресурсов."
   ]
  },
  {
   "cell_type": "code",
   "execution_count": 4,
   "metadata": {},
   "outputs": [],
   "source": [
    "def minimize_res(A, b, p, eps, T1, T2, prod_cost, res_cost = 1.8):\n",
    "    x = cvxpy.Variable(shape= (1, A.shape[0]))\n",
    "    b = b.reshape(1,-1)\n",
    "    total_value = cvxpy.sum(x)\n",
    "    x_pos = (x>=0)\n",
    "    plan = (x@A >= b)\n",
    "    time_1 = (x[0][:5]@(1/p)[:5] <= T1)\n",
    "    time_2 = (x[0][5:]@(1/p)[5:] <= T2)\n",
    "    constraints = [x_pos, plan, time_1, time_2]\n",
    "    problem = problem_solver(total_value, constraints)\n",
    "    if problem.status not in [\"infeasible\", \"unbounded\"]:\n",
    "        print('Нет решения.\\n\\nРешение без ограничения на время.\\n')\n",
    "        constraints = list(set(constraints)-set([time_1, time_2]))\n",
    "        problem = problem_solver(total_value, constraints)\n",
    "    problem.solve()\n",
    "    result = abs(np.round(x.value, 4))\n",
    "    res_sum = np.sum(result)\n",
    "    waste = result[0]@eps\n",
    "    T1 = result[0][:5]@(1/p)[:5]\n",
    "    T2 = result[0][5:]@(1/p)[5:]\n",
    "    overfulfillment = np.round(np.sum(result@A, axis=0), 3)-b\n",
    "    profit = np.sum(res_cost*result[0])-np.sum(prod_cost)\n",
    "    print_results(res_sum, result, T1, T2, waste, overfulfillment, profit)\n",
    "    return np.sum(x.value)"
   ]
  },
  {
   "cell_type": "markdown",
   "metadata": {},
   "source": [
    "Алгоритм решения задачи максимизации ресурсов при заданных ограничениях по времени."
   ]
  },
  {
   "cell_type": "code",
   "execution_count": 5,
   "metadata": {},
   "outputs": [],
   "source": [
    "def maximize_res_with_cons(A, b, p, eps, T1, T2, prod_cost, res_cost = 1.8):\n",
    "    x = cvxpy.Variable(shape= (1, A.shape[0]))\n",
    "    b = b.reshape(1,-1)\n",
    "    total_value = cvxpy.sum(x@A)\n",
    "    x_pos = (x>=0)\n",
    "    time_1 = (x[0][:5]@(1/p)[:5] <= T1)\n",
    "    time_2 = (x[0][5:]@(1/p)[5:] <= T2)\n",
    "    constraints = [x_pos, time_1, time_2]\n",
    "    problem = cvxpy.Problem(cvxpy.Maximize(total_value), constraints = constraints) \n",
    "    problem.solve()\n",
    "    result = abs(np.round(x.value, 4))\n",
    "    res_sum = np.sum(result)\n",
    "    waste = result[0]@eps\n",
    "    T1 = result[0][:5]@(1/p)[:5]\n",
    "    T2 = result[0][5:]@(1/p)[5:]\n",
    "    overfulfillment = np.round(np.sum(result@A, axis=0), 3)-b\n",
    "    profit = np.sum(res_cost*result[0])-np.sum(prod_cost)\n",
    "    print_results(res_sum, result, T1, T2, waste, overfulfillment, profit)"
   ]
  },
  {
   "cell_type": "markdown",
   "metadata": {},
   "source": [
    "Алгоритм решения задачи минимизации времени работы агрегатов."
   ]
  },
  {
   "cell_type": "code",
   "execution_count": 6,
   "metadata": {},
   "outputs": [],
   "source": [
    "def minimize_time(A,b,p,eps, prod_cost, res_cost = 1.8):\n",
    "    x = cvxpy.Variable(shape= (1, A.shape[0]))\n",
    "    b = b.reshape(1,-1)\n",
    "    time_1 = x[0][:5]@(1/p)[:5]\n",
    "    time_2 = x[0][5:]@(1/p)[5:]\n",
    "    total_value = time_1 + time_2\n",
    "    x_pos = (x>=0)\n",
    "    plan = (x@A >= b)\n",
    "    constraints = [x_pos, plan]\n",
    "    problem = problem_solver(total_value, constraints)\n",
    "    problem.solve()\n",
    "    result = abs(np.round(x.value, 4))\n",
    "    res_sum = np.sum(result)\n",
    "    waste = result[0]@eps\n",
    "    T1 = result[0][:5]@(1/p)[:5]\n",
    "    T2 = result[0][5:]@(1/p)[5:]\n",
    "    overfulfillment = np.round(np.sum(result@A, axis=0), 3)-b\n",
    "    profit = np.sum(res_cost*result[0])-np.sum(prod_cost)\n",
    "    print_results(res_sum, result, T1, T2, waste, overfulfillment, profit)"
   ]
  },
  {
   "cell_type": "markdown",
   "metadata": {},
   "source": [
    "Для двух одинаковых агрегатов."
   ]
  },
  {
   "cell_type": "code",
   "execution_count": 7,
   "metadata": {},
   "outputs": [],
   "source": [
    "def minimize_time_same_agr(A,b,p,eps, prod_cost, res_cost = 1.8):\n",
    "    x = cvxpy.Variable(shape= (1, A.shape[0]))\n",
    "    b = b.reshape(1,-1)\n",
    "    time_1 = x[0][5:]@(1/p)[5:]\n",
    "    time_2 = x[0][5:]@(1/p)[5:]\n",
    "    total_value = time_1 + time_2\n",
    "    x_pos = (x>=0)\n",
    "    plan = (x@A >= b)\n",
    "    constraints = [x_pos, plan]\n",
    "    problem = problem_solver(total_value, constraints)\n",
    "    problem.solve()\n",
    "    result = abs(np.round(x.value, 4))\n",
    "    res_sum = np.sum(result)\n",
    "    waste = result[0]@eps\n",
    "    T1 = result[0][5:]@(1/p)[5:]\n",
    "    T2 = result[0][5:]@(1/p)[5:]\n",
    "    overfulfillment = np.round(np.sum(result@A, axis=0), 3)-b\n",
    "    profit = np.sum(res_cost*result[0])-np.sum(prod_cost)\n",
    "    print_results(res_sum, result, T1, T2, waste, overfulfillment, profit)"
   ]
  },
  {
   "cell_type": "markdown",
   "metadata": {},
   "source": [
    "Алгоритм решения задачи минимизации отходов."
   ]
  },
  {
   "cell_type": "code",
   "execution_count": 8,
   "metadata": {},
   "outputs": [],
   "source": [
    "def minimize_waste(A, b, p, eps, prod_cost, res_cost = 1.8):\n",
    "    x = cvxpy.Variable(shape= (1, A.shape[0]))\n",
    "    b = b.reshape(1,-1)\n",
    "    eps = eps.reshape(-1,1)\n",
    "    total_value = x@eps\n",
    "    x_pos = (x>=0)\n",
    "    plan = (x@A >= b)\n",
    "    constraints = [x_pos, plan]\n",
    "    problem = problem_solver(total_value, constraints)\n",
    "    waste = problem.solve()\n",
    "    result = abs(np.round(x.value, 4))\n",
    "    res_sum = np.sum(result)\n",
    "    T1 = result[0][:5]@(1/p)[:5]\n",
    "    T2 = result[0][5:]@(1/p)[5:]\n",
    "    overfulfillment = np.round(np.sum(result@A, axis=0), 3)-b\n",
    "    profit = np.sum(res_cost*result[0])-np.sum(prod_cost)\n",
    "    print_results(res_sum, result, T1, T2, waste, overfulfillment, profit)"
   ]
  },
  {
   "cell_type": "markdown",
   "metadata": {},
   "source": [
    "Алгоритм решения задачи максимизации прибыли."
   ]
  },
  {
   "cell_type": "code",
   "execution_count": 9,
   "metadata": {},
   "outputs": [],
   "source": [
    "def maximize_profit(A, b, p, eps, prod_cost, min_num_res, percentage = 1,  res_cost = 1.8):\n",
    "    x = cvxpy.Variable(shape= (1, A.shape[0]))\n",
    "    b = b.reshape(1,-1)\n",
    "    time_1 = x[0][:5]@(1/p)[:5]\n",
    "    time_2 = x[0][5:]@(1/p)[5:]\n",
    "    total_value = cvxpy.sum(res_cost*x)-cvxpy.sum(prod_cost)\n",
    "    x_pos = (x>=0)\n",
    "    plan = (x@A >= b)\n",
    "    res_num = (cvxpy.sum(x) <= min_num_res*percentage)\n",
    "    constraints = [x_pos, plan, res_num]\n",
    "    problem = cvxpy.Problem(cvxpy.Maximize(total_value), constraints = constraints) \n",
    "    profit = problem.solve()\n",
    "    result = abs(np.round(x.value, 4))\n",
    "    res_sum = np.sum(result)\n",
    "    waste = result[0]@eps\n",
    "    T1 = result[0][:5]@(1/p)[:5]\n",
    "    T2 = result[0][5:]@(1/p)[5:]\n",
    "    overfulfillment = np.round(np.sum(result@A, axis=0), 3)-b\n",
    "    print_results(res_sum, result, T1, T2, waste, overfulfillment, profit)"
   ]
  },
  {
   "cell_type": "markdown",
   "metadata": {},
   "source": [
    "# 6. Анализ"
   ]
  },
  {
   "cell_type": "markdown",
   "metadata": {},
   "source": [
    "Проверим наш алгоритм на данных:"
   ]
  },
  {
   "cell_type": "code",
   "execution_count": 10,
   "metadata": {},
   "outputs": [],
   "source": [
    "A = np.array([[0,0,0.135,0.214,0.633,0],\n",
    "              [0,0,0.665,0.318,0,0],\n",
    "              [0,0.355,0,0.212,0.416,0],\n",
    "              [0.497,0,0.27,0.214,0,0],\n",
    "              [0,0.12,0.54,0.321,0,0],\n",
    "              [0.24,0,0,0.321,0,0.42],\n",
    "              [0.24,0,0,0.321,0,0.42],\n",
    "              [0,0.24,0,0.107,0.633,0],\n",
    "              [0,0,0.135,0,0.844,0]])\n",
    "b = np.array([150,50,100,50,150,100])\n",
    "p = np.array([7,6,5,8,9,10,10,11,12])\n",
    "eps = np.array([0.018, 0.017, 0.017, 0.019, 0.019, 0.019, 0.019, 0.02, 0.021])\n",
    "prod_cost = np.array([0.9,0.7,0.6,0.6,1,0.9])\n",
    "T1 = 6\n",
    "T2 = 3"
   ]
  },
  {
   "cell_type": "markdown",
   "metadata": {},
   "source": [
    "## 1 пункт.  \n",
    "Минимизация ресурсов."
   ]
  },
  {
   "cell_type": "code",
   "execution_count": 11,
   "metadata": {},
   "outputs": [
    {
     "name": "stdout",
     "output_type": "stream",
     "text": [
      "Нет решения.\n",
      "\n",
      "Решение без ограничения на время.\n",
      "\n",
      "Кол-во затраченных ресурсов (в тоннах)\n",
      "-------------------------------------\n",
      " 723.8579\n",
      "\n",
      "Время работы (в часах)\n",
      "-------------------------------------\n",
      " 1го агрегата: 32.13142361111111\n",
      " 2го агрегата: 43.416445\n",
      "\n",
      "Кол-во отходов (в тоннах)\n",
      "-------------------------------------\n",
      " 14.0243319\n",
      "\n",
      "Кол-во ресурсов для каждой технологии (в тоннах)\n",
      "-------------------------------------\n",
      " 1: 0.0\n",
      " 2: 0.0\n",
      " 3: 0.0\n",
      " 4: 186.8353\n",
      " 5: 78.9931\n",
      " 6: 119.0476\n",
      " 7: 119.0476\n",
      " 8: 168.8368\n",
      " 9: 51.0975\n",
      "\n",
      "Перевыполнение плана (в тоннах)\n",
      "-------------------------------------\n",
      " [  0.      0.      0.    109.834   0.      0.   ]\n",
      "\n",
      "Прибыль (в у.е.)\n",
      "-------------------------------------\n",
      " 1298.2442199999998\n",
      "\n",
      "Прибыль в час (в у.е.)\n",
      "-------------------------------------\n",
      " 29.90213086308655\n",
      "\n"
     ]
    }
   ],
   "source": [
    "min_num_res = minimize_res(A,b,p,eps,T1,T2, prod_cost)"
   ]
  },
  {
   "cell_type": "markdown",
   "metadata": {},
   "source": [
    "Происходит перевыполнение плана по 4 продукту. Первые три технологии на первом агрегате не используются. Так как минимизировалось использование ресурсов и был отказ от ограничения по времени, план будет перевыполняться всегда. "
   ]
  },
  {
   "cell_type": "markdown",
   "metadata": {},
   "source": [
    "## 2 пункт.  \n",
    "Минимизация времени работы агрегатов."
   ]
  },
  {
   "cell_type": "code",
   "execution_count": 12,
   "metadata": {},
   "outputs": [
    {
     "name": "stdout",
     "output_type": "stream",
     "text": [
      "Кол-во затраченных ресурсов (в тоннах)\n",
      "-------------------------------------\n",
      " 723.8579\n",
      "\n",
      "Время работы (в часах)\n",
      "-------------------------------------\n",
      " 1го агрегата: 32.13142361111111\n",
      " 2го агрегата: 43.416445\n",
      "\n",
      "Кол-во отходов (в тоннах)\n",
      "-------------------------------------\n",
      " 14.0243319\n",
      "\n",
      "Кол-во ресурсов для каждой технологии (в тоннах)\n",
      "-------------------------------------\n",
      " 1: 0.0\n",
      " 2: 0.0\n",
      " 3: 0.0\n",
      " 4: 186.8353\n",
      " 5: 78.9931\n",
      " 6: 119.0476\n",
      " 7: 119.0476\n",
      " 8: 168.8368\n",
      " 9: 51.0975\n",
      "\n",
      "Перевыполнение плана (в тоннах)\n",
      "-------------------------------------\n",
      " [  0.      0.      0.    109.834   0.      0.   ]\n",
      "\n",
      "Прибыль (в у.е.)\n",
      "-------------------------------------\n",
      " 1298.2442199999998\n",
      "\n",
      "Прибыль в час (в у.е.)\n",
      "-------------------------------------\n",
      " 29.90213086308655\n",
      "\n"
     ]
    }
   ],
   "source": [
    "minimize_time(A, b, p, eps, prod_cost)"
   ]
  },
  {
   "cell_type": "markdown",
   "metadata": {},
   "source": [
    "При минимизации времени агрегатов мы получаем такой же ответ, как и при минимизации использованных ресурсов, следовательно, мы нашли оптимальный вариант решения, где достигается минимум затрат по времени и минимум использованных ресурсов."
   ]
  },
  {
   "cell_type": "markdown",
   "metadata": {},
   "source": [
    "Заменим первый агрегат на второй и минимизируем время:"
   ]
  },
  {
   "cell_type": "code",
   "execution_count": 13,
   "metadata": {},
   "outputs": [
    {
     "name": "stdout",
     "output_type": "stream",
     "text": [
      "Кол-во затраченных ресурсов (в тоннах)\n",
      "-------------------------------------\n",
      " 929.5078000000001\n",
      "\n",
      "Время работы (в часах)\n",
      "-------------------------------------\n",
      " 1го агрегата: 23.809520000000003\n",
      " 2го агрегата: 23.809520000000003\n",
      "\n",
      "Кол-во отходов (в тоннах)\n",
      "-------------------------------------\n",
      " 17.0040784\n",
      "\n",
      "Кол-во ресурсов для каждой технологии (в тоннах)\n",
      "-------------------------------------\n",
      " 1: 197.5682\n",
      " 2: 59.9073\n",
      " 3: 169.5935\n",
      " 4: 198.6519\n",
      " 5: 65.6917\n",
      " 6: 119.0476\n",
      " 7: 119.0476\n",
      " 8: 0.0\n",
      " 9: 0.0\n",
      "\n",
      "Перевыполнение плана (в тоннах)\n",
      "-------------------------------------\n",
      " [  5.873  18.089  55.62  187.311  45.612   0.   ]\n",
      "\n",
      "Прибыль (в у.е.)\n",
      "-------------------------------------\n",
      " 1668.41404\n",
      "\n",
      "Прибыль в час (в у.е.)\n",
      "-------------------------------------\n",
      " 70.07340089174414\n",
      "\n"
     ]
    }
   ],
   "source": [
    "minimize_time_same_agr(A, b, p, eps, prod_cost)"
   ]
  },
  {
   "cell_type": "markdown",
   "metadata": {},
   "source": [
    "Два одинаковых агрегата выполняют план в разы быстрее, однако при этом тратят больше ресурсов. Прибыль в час в разы больше, стоит задуматься над заменой первого агрегата."
   ]
  },
  {
   "cell_type": "markdown",
   "metadata": {},
   "source": [
    "## 3 пункт.  \n",
    "Минимизация отходов."
   ]
  },
  {
   "cell_type": "code",
   "execution_count": 14,
   "metadata": {
    "scrolled": false
   },
   "outputs": [
    {
     "name": "stdout",
     "output_type": "stream",
     "text": [
      "Кол-во затраченных ресурсов (в тоннах)\n",
      "-------------------------------------\n",
      " 726.611\n",
      "\n",
      "Время работы (в часах)\n",
      "-------------------------------------\n",
      " 1го агрегата: 60.2786825\n",
      " 2го агрегата: 32.834845\n",
      "\n",
      "Кол-во отходов (в тоннах)\n",
      "-------------------------------------\n",
      " 13.635462812144064\n",
      "\n",
      "Кол-во ресурсов для каждой технологии (в тоннах)\n",
      "-------------------------------------\n",
      " 1: 0.0\n",
      " 2: 52.5315\n",
      " 3: 140.8451\n",
      " 4: 186.8353\n",
      " 5: 0.0\n",
      " 6: 119.0476\n",
      " 7: 119.0476\n",
      " 8: 0.0\n",
      " 9: 108.3039\n",
      "\n",
      "Перевыполнение плана (в тоннах)\n",
      "-------------------------------------\n",
      " [  0.      0.      0.    112.975   0.      0.   ]\n",
      "\n",
      "Прибыль (в у.е.)\n",
      "-------------------------------------\n",
      " 1303.1998\n",
      "\n",
      "Прибыль в час (в у.е.)\n",
      "-------------------------------------\n",
      " 21.619580023169885\n",
      "\n"
     ]
    }
   ],
   "source": [
    "minimize_waste(A, b, p, eps, prod_cost)"
   ]
  },
  {
   "cell_type": "markdown",
   "metadata": {},
   "source": [
    "Как мы видим, минимизация отходов ведёт к увеличению используемых ресурсов. Также происходит скачок во времени работы первого агрегата. Это связано с тем, что в его технологиях выходит наименьшее кол-во отходов. План 4 продукта также перевыполняется. "
   ]
  },
  {
   "cell_type": "markdown",
   "metadata": {},
   "source": [
    "## 4 пункт.  \n",
    "Узнаем, сколько можно произвести продуктов при заданных ограничениях."
   ]
  },
  {
   "cell_type": "code",
   "execution_count": 15,
   "metadata": {
    "scrolled": false
   },
   "outputs": [
    {
     "name": "stdout",
     "output_type": "stream",
     "text": [
      "Кол-во затраченных ресурсов (в тоннах)\n",
      "-------------------------------------\n",
      " 90.0\n",
      "\n",
      "Время работы (в часах)\n",
      "-------------------------------------\n",
      " 1го агрегата: 6.0\n",
      " 2го агрегата: 3.0\n",
      "\n",
      "Кол-во отходов (в тоннах)\n",
      "-------------------------------------\n",
      " 1.782\n",
      "\n",
      "Кол-во ресурсов для каждой технологии (в тоннах)\n",
      "-------------------------------------\n",
      " 1: 0.0\n",
      " 2: 0.0\n",
      " 3: 0.0\n",
      " 4: 0.0\n",
      " 5: 54.0\n",
      " 6: 0.0\n",
      " 7: 0.0\n",
      " 8: 0.0\n",
      " 9: 36.0\n",
      "\n",
      "Перевыполнение плана (в тоннах)\n",
      "-------------------------------------\n",
      " [-150.     -43.52   -65.98   -32.666 -119.616 -100.   ]\n",
      "\n",
      "Прибыль (в у.е.)\n",
      "-------------------------------------\n",
      " 157.3\n",
      "\n",
      "Прибыль в час (в у.е.)\n",
      "-------------------------------------\n",
      " 26.21666666666667\n",
      "\n"
     ]
    }
   ],
   "source": [
    "maximize_res_with_cons(A, b, p, eps, T1, T2, prod_cost)"
   ]
  },
  {
   "cell_type": "markdown",
   "metadata": {},
   "source": [
    "При данных ограничениях производится совсем немного продукции, и то не каждого типа."
   ]
  },
  {
   "cell_type": "markdown",
   "metadata": {},
   "source": [
    "## 5 пункт.  \n",
    "Посчитаем максимальную прибыль при уступке в количестве ресурса в $5\\%$"
   ]
  },
  {
   "cell_type": "code",
   "execution_count": 16,
   "metadata": {
    "scrolled": false
   },
   "outputs": [
    {
     "name": "stdout",
     "output_type": "stream",
     "text": [
      "Кол-во затраченных ресурсов (в тоннах)\n",
      "-------------------------------------\n",
      " 760.051\n",
      "\n",
      "Время работы (в часах)\n",
      "-------------------------------------\n",
      " 1го агрегата: 52.498645714285715\n",
      " 2го агрегата: 37.78253939393939\n",
      "\n",
      "Кол-во отходов (в тоннах)\n",
      "-------------------------------------\n",
      " 14.416146799999998\n",
      "\n",
      "Кол-во ресурсов для каждой технологии (в тоннах)\n",
      "-------------------------------------\n",
      " 1: 28.1231\n",
      " 2: 31.9736\n",
      " 3: 77.5873\n",
      " 4: 186.8936\n",
      " 5: 38.4567\n",
      " 6: 121.252\n",
      " 7: 121.252\n",
      " 8: 86.6027\n",
      " 9: 67.91\n",
      "\n",
      "Перевыполнение плана (в тоннах)\n",
      "-------------------------------------\n",
      " [  1.087   2.943   5.455 122.085  12.214   1.852]\n",
      "\n",
      "Прибыль (в у.е.)\n",
      "-------------------------------------\n",
      " 1363.391605374793\n",
      "\n",
      "Прибыль в час (в у.е.)\n",
      "-------------------------------------\n",
      " 25.970033832773566\n",
      "\n"
     ]
    }
   ],
   "source": [
    "maximize_profit(A, b, p, eps, prod_cost, min_num_res, percentage=1.05)"
   ]
  },
  {
   "cell_type": "markdown",
   "metadata": {},
   "source": [
    "Суммарная прибыль возрастает не сильно, однако прибыль в час уменьшилась по сравнению с использованием минимального количества ресурсов. Для достижения плана, лучше не делать уступку. "
   ]
  },
  {
   "cell_type": "markdown",
   "metadata": {},
   "source": [
    "## Итог"
   ]
  },
  {
   "cell_type": "markdown",
   "metadata": {},
   "source": [
    "Cтоит пересмотреть план по 4 продукту в сторону его увеличения. Для скорости производства предлагается заменить первый агрегат на второй. Предлагаемые ограничения по работе агрегатов существенно отличается от реальных оптимальных значений."
   ]
  }
 ],
 "metadata": {
  "kernelspec": {
   "display_name": "Python 3",
   "language": "python",
   "name": "python3"
  },
  "language_info": {
   "codemirror_mode": {
    "name": "ipython",
    "version": 3
   },
   "file_extension": ".py",
   "mimetype": "text/x-python",
   "name": "python",
   "nbconvert_exporter": "python",
   "pygments_lexer": "ipython3",
   "version": "3.8.3"
  }
 },
 "nbformat": 4,
 "nbformat_minor": 4
}
